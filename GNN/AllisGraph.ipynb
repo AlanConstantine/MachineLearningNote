{
 "cells": [
  {
   "attachments": {},
   "cell_type": "markdown",
   "metadata": {},
   "source": [
    "# All is Graph"
   ]
  },
  {
   "attachments": {},
   "cell_type": "markdown",
   "metadata": {},
   "source": [
    "Reference:\n",
    "1. [图卷积网络到底怎么做，这是一份极简的Numpy实现](https://mp.weixin.qq.com/s/sg9O761F0KHAmCPOfMW_kQ)"
   ]
  },
  {
   "attachments": {},
   "cell_type": "markdown",
   "metadata": {},
   "source": [
    "## Examples"
   ]
  },
  {
   "attachments": {},
   "cell_type": "markdown",
   "metadata": {},
   "source": [
    "![Cited from [图卷积网络到底怎么做，这是一份极简的Numpy实现](https://mp.weixin.qq.com/s/sg9O761F0KHAmCPOfMW_kQ)](https://mmbiz.qpic.cn/mmbiz_png/KmXPKA19gW8VBwmtdqsNQQEicrmm06aF2OhU65hickwqmthgLOurE3rpdE2MhZhWo7PzfOK4nz3CicDIyfxv8Wl6Q/640?wx_fmt=png&tp=webp&wxfrom=5&wx_lazy=1&wx_co=1)"
   ]
  },
  {
   "attachments": {},
   "cell_type": "markdown",
   "metadata": {},
   "source": [
    "## GCN"
   ]
  },
  {
   "cell_type": "code",
   "execution_count": 1,
   "metadata": {},
   "outputs": [],
   "source": [
    "import torch\n",
    "import numpy as np"
   ]
  },
  {
   "attachments": {},
   "cell_type": "markdown",
   "metadata": {},
   "source": [
    "### 构建邻接矩阵"
   ]
  },
  {
   "cell_type": "code",
   "execution_count": 6,
   "metadata": {},
   "outputs": [],
   "source": [
    "A = np.matrix([[0, 1, 0, 1],\n",
    "               [1, 0, 1, 1],\n",
    "               [0, 1, 0, 1],\n",
    "               [1, 1, 1, 0]], dtype=float)"
   ]
  },
  {
   "cell_type": "code",
   "execution_count": 7,
   "metadata": {},
   "outputs": [
    {
     "data": {
      "text/plain": [
       "array([[0.73166656, 0.97124384, 0.39010042, 0.35377135, 0.60371244,\n",
       "        0.10047358],\n",
       "       [0.19250475, 0.19464946, 0.74503961, 0.15040043, 0.15262087,\n",
       "        0.89864691],\n",
       "       [0.62822714, 0.90285514, 0.08829209, 0.65172925, 0.70519149,\n",
       "        0.47095836],\n",
       "       [0.29454457, 0.67208882, 0.57597568, 0.7861017 , 0.84657429,\n",
       "        0.10542533]])"
      ]
     },
     "execution_count": 7,
     "metadata": {},
     "output_type": "execute_result"
    }
   ],
   "source": [
    "node_features = np.random.rand(4, 6)\n",
    "node_features"
   ]
  },
  {
   "cell_type": "code",
   "execution_count": 8,
   "metadata": {},
   "outputs": [
    {
     "data": {
      "text/plain": [
       "matrix([[0.48704932, 0.86673827, 1.32101529, 0.93650213, 0.99919516,\n",
       "         1.00407224],\n",
       "        [1.65443826, 2.54618779, 1.05436819, 1.7916023 , 2.15547822,\n",
       "         0.67685727],\n",
       "        [0.48704932, 0.86673827, 1.32101529, 0.93650213, 0.99919516,\n",
       "         1.00407224],\n",
       "        [1.55239845, 2.06874843, 1.22343212, 1.15590102, 1.4615248 ,\n",
       "         1.47007885]])"
      ]
     },
     "execution_count": 8,
     "metadata": {},
     "output_type": "execute_result"
    }
   ],
   "source": [
    "A * node_features"
   ]
  },
  {
   "attachments": {},
   "cell_type": "markdown",
   "metadata": {},
   "source": [
    "### 由于原始邻接矩阵上的节点与节点特征矩阵相乘后对自己没有表征，因此加上一个单位矩阵使邻接矩阵对自己有自链接"
   ]
  },
  {
   "cell_type": "code",
   "execution_count": 9,
   "metadata": {},
   "outputs": [
    {
     "data": {
      "text/plain": [
       "array([[1., 0., 0., 0.],\n",
       "       [0., 1., 0., 0.],\n",
       "       [0., 0., 1., 0.],\n",
       "       [0., 0., 0., 1.]])"
      ]
     },
     "execution_count": 9,
     "metadata": {},
     "output_type": "execute_result"
    }
   ],
   "source": [
    "I = np.eye(A.shape[0])\n",
    "I"
   ]
  },
  {
   "cell_type": "code",
   "execution_count": 10,
   "metadata": {},
   "outputs": [
    {
     "data": {
      "text/plain": [
       "matrix([[1.21871588, 1.83798211, 1.71111571, 1.29027348, 1.6029076 ,\n",
       "         1.10454582],\n",
       "        [1.84694301, 2.74083725, 1.7994078 , 1.94200273, 2.30809909,\n",
       "         1.57550418],\n",
       "        [1.11527646, 1.76959341, 1.40930738, 1.58823138, 1.70438665,\n",
       "         1.4750306 ],\n",
       "        [1.84694301, 2.74083725, 1.7994078 , 1.94200273, 2.30809909,\n",
       "         1.57550418]])"
      ]
     },
     "execution_count": 10,
     "metadata": {},
     "output_type": "execute_result"
    }
   ],
   "source": [
    "A_hat = A + I\n",
    "A_hat * node_features"
   ]
  },
  {
   "attachments": {},
   "cell_type": "markdown",
   "metadata": {},
   "source": [
    "### 也可以考虑使用拉普拉斯矩阵，即$L=A-D$ "
   ]
  },
  {
   "cell_type": "code",
   "execution_count": 19,
   "metadata": {},
   "outputs": [
    {
     "data": {
      "text/plain": [
       "matrix([[0., 1., 0., 1.],\n",
       "        [1., 0., 1., 1.],\n",
       "        [0., 1., 0., 1.],\n",
       "        [1., 1., 1., 0.]])"
      ]
     },
     "execution_count": 19,
     "metadata": {},
     "output_type": "execute_result"
    }
   ],
   "source": [
    "A"
   ]
  },
  {
   "cell_type": "code",
   "execution_count": 20,
   "metadata": {},
   "outputs": [],
   "source": [
    "D = np.array(np.sum(A, axis=0))[0]\n",
    "D = np.matrix(np.diag(D))"
   ]
  },
  {
   "cell_type": "code",
   "execution_count": 22,
   "metadata": {},
   "outputs": [
    {
     "data": {
      "text/plain": [
       "matrix([[-2.,  1.,  0.,  1.],\n",
       "        [ 1., -3.,  1.,  1.],\n",
       "        [ 0.,  1., -2.,  1.],\n",
       "        [ 1.,  1.,  1., -3.]])"
      ]
     },
     "execution_count": 22,
     "metadata": {},
     "output_type": "execute_result"
    }
   ],
   "source": [
    "D_hat = np.array(np.sum(A, axis=0))[0]\n",
    "D_hat = np.matrix(np.diag(D))\n",
    "L = A - D\n",
    "L"
   ]
  },
  {
   "cell_type": "code",
   "execution_count": 24,
   "metadata": {},
   "outputs": [
    {
     "data": {
      "text/plain": [
       "matrix([[0., 1., 0., 1.],\n",
       "        [1., 0., 1., 1.],\n",
       "        [0., 1., 0., 1.],\n",
       "        [1., 1., 1., 0.]])"
      ]
     },
     "execution_count": 24,
     "metadata": {},
     "output_type": "execute_result"
    }
   ],
   "source": [
    "A"
   ]
  },
  {
   "cell_type": "code",
   "execution_count": 26,
   "metadata": {},
   "outputs": [
    {
     "data": {
      "text/plain": [
       "matrix([[ 5.00000000e-01,  5.55111512e-17,  5.00000000e-01,\n",
       "          5.55111512e-17],\n",
       "        [-5.55111512e-17,  1.00000000e+00, -5.55111512e-17,\n",
       "          1.11022302e-16],\n",
       "        [ 5.00000000e-01,  1.66533454e-16,  5.00000000e-01,\n",
       "          1.11022302e-16],\n",
       "        [ 0.00000000e+00, -3.33066907e-16,  0.00000000e+00,\n",
       "          1.00000000e+00]])"
      ]
     },
     "execution_count": 26,
     "metadata": {},
     "output_type": "execute_result"
    }
   ],
   "source": [
    "np.linalg.pinv(A) * A"
   ]
  },
  {
   "attachments": {},
   "cell_type": "markdown",
   "metadata": {},
   "source": [
    "### 归一化处理"
   ]
  },
  {
   "cell_type": "code",
   "execution_count": 11,
   "metadata": {},
   "outputs": [
    {
     "data": {
      "text/plain": [
       "matrix([[2., 0., 0., 0.],\n",
       "        [0., 3., 0., 0.],\n",
       "        [0., 0., 2., 0.],\n",
       "        [0., 0., 0., 3.]])"
      ]
     },
     "execution_count": 11,
     "metadata": {},
     "output_type": "execute_result"
    }
   ],
   "source": [
    "# 求出度矩阵（已经算上自链接）\n",
    "D_hat = np.array(np.sum(A+I, axis=0))[0]\n",
    "D_hat = np.matrix(np.diag(D_hat))\n",
    "D_hat"
   ]
  },
  {
   "cell_type": "code",
   "execution_count": 12,
   "metadata": {},
   "outputs": [
    {
     "data": {
      "text/plain": [
       "(4, 6)"
      ]
     },
     "execution_count": 12,
     "metadata": {},
     "output_type": "execute_result"
    }
   ],
   "source": [
    "((D_hat**-1)*A_hat*node_features).shape"
   ]
  },
  {
   "cell_type": "code",
   "execution_count": 14,
   "metadata": {},
   "outputs": [],
   "source": [
    "input_size = node_features.shape[1]\n",
    "output_size = 12\n",
    "# 初始化权重矩阵\n",
    "w = np.random.rand(input_size, output_size)"
   ]
  },
  {
   "cell_type": "code",
   "execution_count": 16,
   "metadata": {},
   "outputs": [],
   "source": [
    "layer1 = D_hat**-1*A_hat*node_features * w"
   ]
  },
  {
   "cell_type": "code",
   "execution_count": 17,
   "metadata": {},
   "outputs": [
    {
     "data": {
      "text/plain": [
       "(4, 12)"
      ]
     },
     "execution_count": 17,
     "metadata": {},
     "output_type": "execute_result"
    }
   ],
   "source": [
    "layer1.shape"
   ]
  },
  {
   "attachments": {},
   "cell_type": "markdown",
   "metadata": {},
   "source": [
    "### PyTorch geometric\n",
    "![](https://pytorch-geometric.readthedocs.io/en/latest/_images/graph.svg)\n",
    "* [pytorch-geometric](https://pytorch-geometric.readthedocs.io/en/latest/notes/introduction.html)\n",
    "* [图神经网络库PyTorch geometric（PYG）零基础上手教程](https://zhuanlan.zhihu.com/p/91229616)"
   ]
  },
  {
   "cell_type": "code",
   "execution_count": 1,
   "metadata": {},
   "outputs": [],
   "source": [
    "import torch\n",
    "from torch_geometric.data import Data"
   ]
  },
  {
   "cell_type": "code",
   "execution_count": 3,
   "metadata": {},
   "outputs": [
    {
     "data": {
      "text/plain": [
       "Data(x=[3, 1], edge_index=[2, 4])"
      ]
     },
     "execution_count": 3,
     "metadata": {},
     "output_type": "execute_result"
    }
   ],
   "source": [
    "edge_index = torch.tensor([[0, 1],\n",
    "                           [1, 0],\n",
    "                           [1, 2],\n",
    "                           [2, 1]], dtype=torch.long)\n",
    "x = torch.tensor([[-1], [0], [1]], dtype=torch.float)\n",
    "data = Data(x=x, edge_index=edge_index.t().contiguous())\n",
    "data"
   ]
  },
  {
   "attachments": {},
   "cell_type": "markdown",
   "metadata": {},
   "source": [
    "# HeteGraph"
   ]
  },
  {
   "cell_type": "code",
   "execution_count": 2,
   "metadata": {},
   "outputs": [],
   "source": [
    "import pandas as pd"
   ]
  },
  {
   "cell_type": "code",
   "execution_count": 2,
   "metadata": {},
   "outputs": [],
   "source": [
    "# u, i, r\n",
    "u = [0, 1, 2, 3]\n",
    "s = [4, 5, 6]\n",
    "\n",
    "edges = [\n",
    "    [0, 4, 2],\n",
    "    [0, 5, 3],\n",
    "    [1, 4, 1],\n",
    "    [1, 6, 2],\n",
    "    [2, 4, 1],\n",
    "    [3, 5, 2],\n",
    "    [3, 6, 2]\n",
    "]\n",
    "\n",
    "ux = np.matrix([[i, -i] for i in range(len(u))])\n",
    "sx = np.matrix([[i, -i] for i in range(len(s))])\n",
    "\n",
    "A = np.matrix(\n",
    "    [\n",
    "        [0, 0, 0, 0, 2, 3, 0],\n",
    "        [0, 0, 0, 0, 1, 0, 2],\n",
    "        [0, 0, 0, 0, 1, 0, 0],\n",
    "        [0, 0, 0, 0, 0, 2, 2],\n",
    "        [2, 1, 1, 0, 0, 0, 0],\n",
    "        [3, 0, 0, 2, 0, 0, 0],\n",
    "        [0, 2, 0, 2, 0, 0, 0]\n",
    "    ]\n",
    ")"
   ]
  },
  {
   "cell_type": "code",
   "execution_count": 3,
   "metadata": {},
   "outputs": [
    {
     "data": {
      "text/plain": [
       "matrix([[1., 0., 0., 0., 2., 3., 0.],\n",
       "        [0., 1., 0., 0., 1., 0., 2.],\n",
       "        [0., 0., 1., 0., 1., 0., 0.],\n",
       "        [0., 0., 0., 1., 0., 2., 2.],\n",
       "        [2., 1., 1., 0., 1., 0., 0.],\n",
       "        [3., 0., 0., 2., 0., 1., 0.],\n",
       "        [0., 2., 0., 2., 0., 0., 1.]])"
      ]
     },
     "execution_count": 3,
     "metadata": {},
     "output_type": "execute_result"
    }
   ],
   "source": [
    "I = np.eye(A.shape[0])\n",
    "A_hat = A + I\n",
    "A_hat"
   ]
  },
  {
   "cell_type": "code",
   "execution_count": 4,
   "metadata": {},
   "outputs": [
    {
     "data": {
      "text/plain": [
       "matrix([[6., 0., 0., 0., 0., 0., 0.],\n",
       "        [0., 4., 0., 0., 0., 0., 0.],\n",
       "        [0., 0., 2., 0., 0., 0., 0.],\n",
       "        [0., 0., 0., 5., 0., 0., 0.],\n",
       "        [0., 0., 0., 0., 5., 0., 0.],\n",
       "        [0., 0., 0., 0., 0., 6., 0.],\n",
       "        [0., 0., 0., 0., 0., 0., 5.]])"
      ]
     },
     "execution_count": 4,
     "metadata": {},
     "output_type": "execute_result"
    }
   ],
   "source": [
    "D = np.array(np.sum(A_hat, axis=0))[0]\n",
    "D = np.matrix(np.diag(D))\n",
    "D"
   ]
  },
  {
   "cell_type": "code",
   "execution_count": 7,
   "metadata": {},
   "outputs": [
    {
     "data": {
      "text/plain": [
       "(7, 7)"
      ]
     },
     "execution_count": 7,
     "metadata": {},
     "output_type": "execute_result"
    }
   ],
   "source": [
    "A_hat.shape"
   ]
  },
  {
   "cell_type": "code",
   "execution_count": 6,
   "metadata": {},
   "outputs": [
    {
     "data": {
      "text/plain": [
       "(7, 7)"
      ]
     },
     "execution_count": 6,
     "metadata": {},
     "output_type": "execute_result"
    }
   ],
   "source": [
    "(D**-1).shape"
   ]
  },
  {
   "cell_type": "code",
   "execution_count": 8,
   "metadata": {},
   "outputs": [
    {
     "ename": "",
     "evalue": "",
     "output_type": "error",
     "traceback": [
      "\u001b[1;31mCanceled future for execute_request message before replies were done"
     ]
    },
    {
     "ename": "",
     "evalue": "",
     "output_type": "error",
     "traceback": [
      "\u001b[1;31mThe Kernel crashed while executing code in the the current cell or a previous cell. Please review the code in the cell(s) to identify a possible cause of the failure. Click <a href='https://aka.ms/vscodeJupyterKernelCrash'>here</a> for more info. View Jupyter <a href='command:jupyter.viewOutput'>log</a> for further details."
     ]
    }
   ],
   "source": [
    "(D**-1) * A_hat"
   ]
  },
  {
   "attachments": {},
   "cell_type": "markdown",
   "metadata": {},
   "source": [
    "## LightGCN"
   ]
  },
  {
   "attachments": {},
   "cell_type": "markdown",
   "metadata": {},
   "source": [
    "## UltraGCN"
   ]
  },
  {
   "attachments": {},
   "cell_type": "markdown",
   "metadata": {},
   "source": []
  }
 ],
 "metadata": {
  "kernelspec": {
   "display_name": "Python 3.7.11 ('base')",
   "language": "python",
   "name": "python3"
  },
  "language_info": {
   "codemirror_mode": {
    "name": "ipython",
    "version": 3
   },
   "file_extension": ".py",
   "mimetype": "text/x-python",
   "name": "python",
   "nbconvert_exporter": "python",
   "pygments_lexer": "ipython3",
   "version": "3.9.13"
  },
  "orig_nbformat": 4,
  "vscode": {
   "interpreter": {
    "hash": "13e5bb8e298584c2ac3139085defc83b48703aa1260fc05df28d0eb98c842854"
   }
  }
 },
 "nbformat": 4,
 "nbformat_minor": 2
}

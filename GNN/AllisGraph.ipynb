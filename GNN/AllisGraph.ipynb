{
 "cells": [
  {
   "cell_type": "markdown",
   "metadata": {},
   "source": [
    "# All is Graph"
   ]
  },
  {
   "cell_type": "markdown",
   "metadata": {},
   "source": [
    "Reference:\n",
    "1. [图卷积网络到底怎么做，这是一份极简的Numpy实现](https://mp.weixin.qq.com/s/sg9O761F0KHAmCPOfMW_kQ)"
   ]
  },
  {
   "cell_type": "markdown",
   "metadata": {},
   "source": [
    "## Examples"
   ]
  },
  {
   "cell_type": "markdown",
   "metadata": {},
   "source": [
    "![Cited from [图卷积网络到底怎么做，这是一份极简的Numpy实现](https://mp.weixin.qq.com/s/sg9O761F0KHAmCPOfMW_kQ)](https://mmbiz.qpic.cn/mmbiz_png/KmXPKA19gW8VBwmtdqsNQQEicrmm06aF2OhU65hickwqmthgLOurE3rpdE2MhZhWo7PzfOK4nz3CicDIyfxv8Wl6Q/640?wx_fmt=png&tp=webp&wxfrom=5&wx_lazy=1&wx_co=1)"
   ]
  },
  {
   "cell_type": "markdown",
   "metadata": {},
   "source": [
    "## GCN"
   ]
  },
  {
   "cell_type": "code",
   "execution_count": 1,
   "metadata": {},
   "outputs": [],
   "source": [
    "import torch\n",
    "import numpy as np"
   ]
  },
  {
   "cell_type": "markdown",
   "metadata": {},
   "source": [
    "### 构建邻接矩阵"
   ]
  },
  {
   "cell_type": "code",
   "execution_count": 2,
   "metadata": {},
   "outputs": [],
   "source": [
    "A = np.matrix([[0, 1, 0, 1],\n",
    "               [1, 0, 1, 1],\n",
    "               [0, 1, 0, 1],\n",
    "               [1, 1, 1, 0]], dtype=float)"
   ]
  },
  {
   "cell_type": "code",
   "execution_count": 5,
   "metadata": {},
   "outputs": [
    {
     "data": {
      "text/plain": [
       "array([[0.00438082, 0.76714432, 0.91850695, 0.80540431, 0.25504019,\n",
       "        0.83894186],\n",
       "       [0.90780661, 0.65764306, 0.0910929 , 0.28886926, 0.29996668,\n",
       "        0.92167679],\n",
       "       [0.86034631, 0.54397293, 0.24822322, 0.72723341, 0.74919585,\n",
       "        0.78052784],\n",
       "       [0.86740053, 0.83820027, 0.81457028, 0.63888134, 0.5858439 ,\n",
       "        0.21855023]])"
      ]
     },
     "execution_count": 5,
     "metadata": {},
     "output_type": "execute_result"
    }
   ],
   "source": [
    "node_features = np.random.rand(4, 6)\n",
    "node_features"
   ]
  },
  {
   "cell_type": "code",
   "execution_count": 6,
   "metadata": {},
   "outputs": [
    {
     "data": {
      "text/plain": [
       "matrix([[1.77520714, 1.49584332, 0.90566319, 0.9277506 , 0.88581059,\n",
       "         1.14022702],\n",
       "        [1.73212766, 2.14931752, 1.98130044, 2.17151907, 1.59007995,\n",
       "         1.83801993],\n",
       "        [1.77520714, 1.49584332, 0.90566319, 0.9277506 , 0.88581059,\n",
       "         1.14022702],\n",
       "        [1.77253374, 1.96876031, 1.25782306, 1.82150698, 1.30420273,\n",
       "         2.54114649]])"
      ]
     },
     "execution_count": 6,
     "metadata": {},
     "output_type": "execute_result"
    }
   ],
   "source": [
    "A * node_features"
   ]
  },
  {
   "cell_type": "markdown",
   "metadata": {},
   "source": [
    "### 由于原始邻接矩阵上的节点与节点特征矩阵相乘后对自己没有表征，因此加上一个单位矩阵使邻接矩阵对自己有自链接"
   ]
  },
  {
   "cell_type": "code",
   "execution_count": 7,
   "metadata": {},
   "outputs": [
    {
     "data": {
      "text/plain": [
       "array([[1., 0., 0., 0.],\n",
       "       [0., 1., 0., 0.],\n",
       "       [0., 0., 1., 0.],\n",
       "       [0., 0., 0., 1.]])"
      ]
     },
     "execution_count": 7,
     "metadata": {},
     "output_type": "execute_result"
    }
   ],
   "source": [
    "I = np.eye(A.shape[0])\n",
    "I"
   ]
  },
  {
   "cell_type": "code",
   "execution_count": 8,
   "metadata": {},
   "outputs": [
    {
     "data": {
      "text/plain": [
       "matrix([[1.77958796, 2.26298764, 1.82417013, 1.73315491, 1.14085078,\n",
       "         1.97916888],\n",
       "        [2.63993427, 2.80696058, 2.07239335, 2.46038833, 1.89004663,\n",
       "         2.75969673],\n",
       "        [2.63555344, 2.03981626, 1.1538864 , 1.65498402, 1.63500644,\n",
       "         1.92075487],\n",
       "        [2.63993427, 2.80696058, 2.07239335, 2.46038833, 1.89004663,\n",
       "         2.75969673]])"
      ]
     },
     "execution_count": 8,
     "metadata": {},
     "output_type": "execute_result"
    }
   ],
   "source": [
    "A_hat = A + I\n",
    "A_hat * node_features"
   ]
  },
  {
   "cell_type": "markdown",
   "metadata": {},
   "source": [
    "### 归一化处理"
   ]
  },
  {
   "cell_type": "code",
   "execution_count": 14,
   "metadata": {},
   "outputs": [
    {
     "data": {
      "text/plain": [
       "matrix([[2., 0., 0., 0.],\n",
       "        [0., 3., 0., 0.],\n",
       "        [0., 0., 2., 0.],\n",
       "        [0., 0., 0., 3.]])"
      ]
     },
     "execution_count": 14,
     "metadata": {},
     "output_type": "execute_result"
    }
   ],
   "source": [
    "D_hat = np.array(np.sum(A, axis=0))[0]\n",
    "D_hat = np.matrix(np.diag(D_hat))\n",
    "D_hat"
   ]
  },
  {
   "cell_type": "code",
   "execution_count": 17,
   "metadata": {},
   "outputs": [
    {
     "ename": "TypeError",
     "evalue": "exponent must be an integer",
     "output_type": "error",
     "traceback": [
      "\u001b[1;31m---------------------------------------------------------------------------\u001b[0m",
      "\u001b[1;31mTypeError\u001b[0m                                 Traceback (most recent call last)",
      "File \u001b[1;32me:\\Software\\anaconda3\\lib\\site-packages\\numpy\\linalg\\linalg.py:623\u001b[0m, in \u001b[0;36mmatrix_power\u001b[1;34m(a, n)\u001b[0m\n\u001b[0;32m    622\u001b[0m \u001b[39mtry\u001b[39;00m:\n\u001b[1;32m--> 623\u001b[0m     n \u001b[39m=\u001b[39m operator\u001b[39m.\u001b[39;49mindex(n)\n\u001b[0;32m    624\u001b[0m \u001b[39mexcept\u001b[39;00m \u001b[39mTypeError\u001b[39;00m \u001b[39mas\u001b[39;00m e:\n",
      "\u001b[1;31mTypeError\u001b[0m: only integer scalar arrays can be converted to a scalar index",
      "\nThe above exception was the direct cause of the following exception:\n",
      "\u001b[1;31mTypeError\u001b[0m                                 Traceback (most recent call last)",
      "\u001b[1;32me:\\Workplace\\MachineLearningNote\\GNN\\AllisGraph.ipynb Cell 16'\u001b[0m in \u001b[0;36m<cell line: 1>\u001b[1;34m()\u001b[0m\n\u001b[1;32m----> <a href='vscode-notebook-cell:/e%3A/Workplace/MachineLearningNote/GNN/AllisGraph.ipynb#ch0000018?line=0'>1</a>\u001b[0m (D_hat\u001b[39m*\u001b[39;49m\u001b[39m*\u001b[39;49m\u001b[39m-\u001b[39;49m\u001b[39m1\u001b[39;49m)\u001b[39m*\u001b[39;49m\u001b[39m*\u001b[39;49mA_hat\u001b[39m*\u001b[39mnode_features\n",
      "File \u001b[1;32me:\\Software\\anaconda3\\lib\\site-packages\\numpy\\matrixlib\\defmatrix.py:231\u001b[0m, in \u001b[0;36mmatrix.__pow__\u001b[1;34m(self, other)\u001b[0m\n\u001b[0;32m    230\u001b[0m \u001b[39mdef\u001b[39;00m \u001b[39m__pow__\u001b[39m(\u001b[39mself\u001b[39m, other):\n\u001b[1;32m--> 231\u001b[0m     \u001b[39mreturn\u001b[39;00m matrix_power(\u001b[39mself\u001b[39;49m, other)\n",
      "File \u001b[1;32m<__array_function__ internals>:5\u001b[0m, in \u001b[0;36mmatrix_power\u001b[1;34m(*args, **kwargs)\u001b[0m\n",
      "File \u001b[1;32me:\\Software\\anaconda3\\lib\\site-packages\\numpy\\linalg\\linalg.py:625\u001b[0m, in \u001b[0;36mmatrix_power\u001b[1;34m(a, n)\u001b[0m\n\u001b[0;32m    623\u001b[0m     n \u001b[39m=\u001b[39m operator\u001b[39m.\u001b[39mindex(n)\n\u001b[0;32m    624\u001b[0m \u001b[39mexcept\u001b[39;00m \u001b[39mTypeError\u001b[39;00m \u001b[39mas\u001b[39;00m e:\n\u001b[1;32m--> 625\u001b[0m     \u001b[39mraise\u001b[39;00m \u001b[39mTypeError\u001b[39;00m(\u001b[39m\"\u001b[39m\u001b[39mexponent must be an integer\u001b[39m\u001b[39m\"\u001b[39m) \u001b[39mfrom\u001b[39;00m \u001b[39me\u001b[39;00m\n\u001b[0;32m    627\u001b[0m \u001b[39m# Fall back on dot for object arrays. Object arrays are not supported by\u001b[39;00m\n\u001b[0;32m    628\u001b[0m \u001b[39m# the current implementation of matmul using einsum\u001b[39;00m\n\u001b[0;32m    629\u001b[0m \u001b[39mif\u001b[39;00m a\u001b[39m.\u001b[39mdtype \u001b[39m!=\u001b[39m \u001b[39mobject\u001b[39m:\n",
      "\u001b[1;31mTypeError\u001b[0m: exponent must be an integer"
     ]
    }
   ],
   "source": [
    "(D_hat**-1)**A_hat*node_features"
   ]
  },
  {
   "cell_type": "markdown",
   "metadata": {},
   "source": [
    "## LightGCN"
   ]
  },
  {
   "cell_type": "markdown",
   "metadata": {},
   "source": [
    "## UltraGCN"
   ]
  },
  {
   "cell_type": "markdown",
   "metadata": {},
   "source": []
  }
 ],
 "metadata": {
  "kernelspec": {
   "display_name": "Python 3.9.12 ('base')",
   "language": "python",
   "name": "python3"
  },
  "language_info": {
   "codemirror_mode": {
    "name": "ipython",
    "version": 3
   },
   "file_extension": ".py",
   "mimetype": "text/x-python",
   "name": "python",
   "nbconvert_exporter": "python",
   "pygments_lexer": "ipython3",
   "version": "3.9.12"
  },
  "orig_nbformat": 4,
  "vscode": {
   "interpreter": {
    "hash": "c2b388c6fce79e00fd9c43dd7c300c62775de93114fdc7222b9aeb8ab89a5a93"
   }
  }
 },
 "nbformat": 4,
 "nbformat_minor": 2
}

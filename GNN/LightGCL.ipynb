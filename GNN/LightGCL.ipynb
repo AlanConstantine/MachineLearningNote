{
 "cells": [
  {
   "cell_type": "markdown",
   "metadata": {},
   "source": [
    "* [ICLR'23 UnderReview | LightGCL: 简单而有效的图对比学习推荐系统](https://zhuanlan.zhihu.com/p/576480565)\n",
    "* [LightGCL: Simple Yet Effective Graph Contrastive Learning for Recommendation](https://github.com/HKUDS/LightGCL)"
   ]
  },
  {
   "cell_type": "code",
   "execution_count": null,
   "metadata": {},
   "outputs": [],
   "source": []
  }
 ],
 "metadata": {
  "language_info": {
   "name": "python"
  },
  "orig_nbformat": 4
 },
 "nbformat": 4,
 "nbformat_minor": 2
}

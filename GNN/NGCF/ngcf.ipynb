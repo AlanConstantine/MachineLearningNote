{
 "cells": [
  {
   "attachments": {},
   "cell_type": "markdown",
   "metadata": {},
   "source": [
    "* [Implementing Neural Graph Collaborative Filtering in PyTorch](https://medium.com/@yusufnoor_88274/implementing-neural-graph-collaborative-filtering-in-pytorch-4d021dff25f3)\n",
    "  * [Code](https://github.com/metahexane/ngcf_pytorch_g61)\n",
    "* [图卷积网络在推荐系统中的应用NGCF（Neural Graph Collaborative Filtering）配套pytorch的代码解释](https://blog.csdn.net/zhao254014/article/details/123986257)"
   ]
  },
  {
   "cell_type": "code",
   "execution_count": null,
   "metadata": {},
   "outputs": [],
   "source": []
  }
 ],
 "metadata": {
  "language_info": {
   "name": "python"
  },
  "orig_nbformat": 4
 },
 "nbformat": 4,
 "nbformat_minor": 2
}

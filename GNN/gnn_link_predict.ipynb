{
 "cells": [
  {
   "cell_type": "code",
   "execution_count": 21,
   "metadata": {},
   "outputs": [],
   "source": [
    "import os.path as osp\n",
    "\n",
    "import torch\n",
    "import torch.nn.functional as F\n",
    "from sklearn.metrics import roc_auc_score\n",
    "\n",
    "from torch_geometric.utils import negative_sampling\n",
    "from torch_geometric.datasets import Planetoid\n",
    "import torch_geometric.transforms as T\n",
    "from torch_geometric.nn import GCNConv\n",
    "from torch_geometric.utils import train_test_split_edges\n",
    "from sklearn.metrics import log_loss\n",
    "\n",
    "device = torch.device('cuda' if torch.cuda.is_available() else 'cpu')\n",
    "device = \"cpu\""
   ]
  },
  {
   "cell_type": "code",
   "execution_count": 6,
   "metadata": {},
   "outputs": [
    {
     "name": "stderr",
     "output_type": "stream",
     "text": [
      "Downloading https://github.com/kimiyoung/planetoid/raw/master/data/ind.cora.x\n",
      "Downloading https://github.com/kimiyoung/planetoid/raw/master/data/ind.cora.tx\n",
      "Downloading https://github.com/kimiyoung/planetoid/raw/master/data/ind.cora.allx\n",
      "Downloading https://github.com/kimiyoung/planetoid/raw/master/data/ind.cora.y\n",
      "Downloading https://github.com/kimiyoung/planetoid/raw/master/data/ind.cora.ty\n",
      "Downloading https://github.com/kimiyoung/planetoid/raw/master/data/ind.cora.ally\n",
      "Downloading https://github.com/kimiyoung/planetoid/raw/master/data/ind.cora.graph\n",
      "Downloading https://github.com/kimiyoung/planetoid/raw/master/data/ind.cora.test.index\n",
      "Processing...\n",
      "Done!\n"
     ]
    },
    {
     "name": "stdout",
     "output_type": "stream",
     "text": [
      "Data(x=[2708, 1433], edge_index=[2, 10556], y=[2708], train_mask=[2708], val_mask=[2708], test_mask=[2708])\n"
     ]
    }
   ],
   "source": [
    "dataset = 'Cora'\n",
    "path = osp.join('.', 'data', dataset)\n",
    "dataset = Planetoid(path, dataset, transform=T.NormalizeFeatures())\n",
    "data = dataset[0]\n",
    "print(dataset.data)"
   ]
  },
  {
   "cell_type": "code",
   "execution_count": 7,
   "metadata": {},
   "outputs": [],
   "source": [
    "data.train_mask = data.val_mask = data.test_mask = data.y = None"
   ]
  },
  {
   "cell_type": "code",
   "execution_count": 10,
   "metadata": {},
   "outputs": [
    {
     "name": "stderr",
     "output_type": "stream",
     "text": [
      "e:\\Software\\anaconda3\\lib\\site-packages\\torch_geometric\\deprecation.py:12: UserWarning: 'train_test_split_edges' is deprecated, use 'transforms.RandomLinkSplit' instead\n",
      "  warnings.warn(out)\n"
     ]
    }
   ],
   "source": [
    "data = train_test_split_edges(data)"
   ]
  },
  {
   "cell_type": "code",
   "execution_count": 11,
   "metadata": {},
   "outputs": [
    {
     "data": {
      "text/plain": [
       "Data(x=[2708, 1433], val_pos_edge_index=[2, 263], test_pos_edge_index=[2, 527], train_pos_edge_index=[2, 8976], train_neg_adj_mask=[2708, 2708], val_neg_edge_index=[2, 263], test_neg_edge_index=[2, 527])"
      ]
     },
     "execution_count": 11,
     "metadata": {},
     "output_type": "execute_result"
    }
   ],
   "source": [
    "data"
   ]
  },
  {
   "cell_type": "code",
   "execution_count": 33,
   "metadata": {},
   "outputs": [
    {
     "data": {
      "text/plain": [
       "tensor([[ 479, 2426,  743,  391,  815,  512, 1372, 1751, 1794,  835, 1093, 1114,\n",
       "          777, 2118,  585,  192,  807,  318,  406, 1020,  285,   23,   23,   77,\n",
       "         1893, 1895,  777,  175, 1594, 2165,  861, 1312,   79, 2290,  491,   66,\n",
       "          186,  853, 2115,  610,  282,  533, 1007,  494,  301,  799,  582, 1988,\n",
       "         2018,  814,   20,  546, 1882, 1302,  758, 1171, 1999,  279, 1054,  865,\n",
       "          392,  948, 1366,  129,  315,   47, 1544,  324,  309, 1193, 1075, 2262,\n",
       "           85,  223,  684, 2054,  201,  556, 1996, 1380,  301, 1962,  923,  790,\n",
       "         1117,  496, 2089,  137,  681, 1363,  435, 1336, 1366,   24,  230,  892,\n",
       "          156,  616,  414, 1846,  389, 1083, 1878,  261,  264,  723,    3, 1339,\n",
       "          527,  273,  399,  385, 1248, 1704,  382,  241, 1554, 1375, 1316,  433,\n",
       "          656, 1886,   76,  770,   50,  819,  194,  160, 1681,  328,  353, 1895,\n",
       "         1935, 1382,  626, 1642, 1061,  801,  908,  492, 1742, 1243, 2044,  114,\n",
       "          600,  734,  873,   51, 1938,   67, 2004,   98,  124,  761,  683,  159,\n",
       "          460, 2172,  158, 1084,   86, 1162, 1230,  287,   45, 1702,  495,  425,\n",
       "           40,  211,  258,  592,  877,  172,  228,   62, 1411, 1016,  214,  790,\n",
       "         1113,  261,  487, 2236,  106, 1730, 1195,  316,   33,  817, 1874, 1057,\n",
       "          529,  539,  487,  479, 1924,  835, 1542, 2345,   70, 2275, 1890,   12,\n",
       "          466, 1598, 2287,  621,  912, 1965, 1442, 1458,  719,  432,   37, 2075,\n",
       "         1516,  616,  117,  573, 1629,  136,  585,  710,  741,  198, 1790, 1184,\n",
       "          439, 2222, 1635,  332,  429,  876,   94, 1510,   60,  578,  936,  677,\n",
       "          411, 2411, 1756,  543,  973,  526,  223, 1593,  126,   16,  458,  325,\n",
       "           56,   16,  393,  847, 1740, 1742,  893, 1132,  150,  237,   86],\n",
       "        [1552, 2436,  755, 2309,  884, 2118, 1940, 2448, 2461, 2695, 2489, 2048,\n",
       "          899, 2701, 1260, 1403, 1915, 1302, 1825, 1665, 1813,  186,  527, 1099,\n",
       "         2286, 2377, 2615,  410, 2465, 2621, 1985, 1505,  644, 2629, 1877, 2367,\n",
       "         2083, 1768, 2316, 2460, 1866, 2030, 1843, 1036,  800, 2180, 2634, 2632,\n",
       "         2502, 1510,  999, 1342, 2382, 1770, 1535, 2573, 2296,  477, 2135, 2112,\n",
       "          859, 1913, 1755, 1340, 2286,   93, 1874, 1247, 1805, 2209, 2540, 2271,\n",
       "         1134,  849, 2409, 2080, 1905, 2244, 2013, 2511, 2511, 2034, 2658, 1843,\n",
       "         2320,  808, 2319, 1143, 2379, 1529, 1480, 1377, 1909, 1593, 1788, 1468,\n",
       "         1476, 1659, 2300, 2309, 1972, 1503, 2354, 2526, 1204,  944,  759, 1876,\n",
       "         1390, 1469, 1784,  804, 1725, 1826, 2486, 2171, 2631, 2280, 1440,  440,\n",
       "          900, 1954,  718, 1664, 2582, 1955, 2661,  236, 2424, 2374, 2581, 2675,\n",
       "         2304, 1859, 2139, 2610, 1898, 1917, 2599, 1171, 2263, 1701, 2093,  473,\n",
       "         2312, 1458, 1946, 1465, 2092, 1643, 2062,  418, 1140, 1336, 1937, 1955,\n",
       "         1956, 2565, 1249, 1267, 2029, 2238, 1978,  820,  397, 2367,  839, 1511,\n",
       "         2598,  888,  996,  850, 2177,  343, 2534, 2278, 2052, 1984,  482, 2293,\n",
       "         1447,  465, 1427, 2436, 2531, 2000, 2000, 2075, 2670, 2589, 2145, 1208,\n",
       "          865, 2396, 1049, 1821, 1994, 1633, 2525, 2475, 2470, 2463, 2249, 1349,\n",
       "         2449, 2641, 2434, 2578, 2641, 2098, 2019, 1905, 2024,  724, 1182, 2228,\n",
       "         1647,  685, 1244, 2425, 2702,  370, 1330, 2666,  995,  672, 2372, 1537,\n",
       "         2123, 2517, 2621,  478, 1695, 1762, 1580, 1518, 1396, 1639, 1594, 2227,\n",
       "         2585, 2649, 2374, 1789, 2520, 1207, 1251, 2199, 2097, 2623, 1632, 2145,\n",
       "          314, 1910, 1994, 1155, 2072, 1937, 1752, 2002, 2447,  445, 1135]])"
      ]
     },
     "execution_count": 33,
     "metadata": {},
     "output_type": "execute_result"
    }
   ],
   "source": [
    "data.val_neg_edge_index"
   ]
  },
  {
   "cell_type": "code",
   "execution_count": 14,
   "metadata": {},
   "outputs": [],
   "source": [
    "class Net(torch.nn.Module):\n",
    "    def __init__(self):\n",
    "        super(Net, self).__init__()\n",
    "        self.conv1 = GCNConv(dataset.num_features, 128)\n",
    "        self.conv2 = GCNConv(128, 64)\n",
    "\n",
    "    def encode(self):\n",
    "        x = self.conv1(data.x, data.train_pos_edge_index) # convolution 1\n",
    "        x = x.relu()\n",
    "        return self.conv2(x, data.train_pos_edge_index) # convolution 2\n",
    "\n",
    "    def decode(self, z, pos_edge_index, neg_edge_index): # only pos and neg edges\n",
    "        edge_index = torch.cat([pos_edge_index, neg_edge_index], dim=-1) # concatenate pos and neg edges\n",
    "        logits = (z[edge_index[0]] * z[edge_index[1]]).sum(dim=-1)  # dot product \n",
    "        return logits\n",
    "\n",
    "    def decode_all(self, z): \n",
    "        prob_adj = z @ z.t() # get adj NxN\n",
    "        return (prob_adj > 0).nonzero(as_tuple=False).t() # get predicted edge_list"
   ]
  },
  {
   "cell_type": "code",
   "execution_count": 16,
   "metadata": {},
   "outputs": [],
   "source": [
    "model, data = Net().to(device), data.to(device)\n",
    "optimizer = torch.optim.Adam(params=model.parameters(), lr=0.01)"
   ]
  },
  {
   "cell_type": "code",
   "execution_count": 28,
   "metadata": {},
   "outputs": [],
   "source": [
    "def get_link_labels(pos_edge_index, neg_edge_index):\n",
    "    # returns a tensor:\n",
    "    # [1,1,1,1,...,0,0,0,0,0,..] with the number of ones is equel to the lenght of pos_edge_index\n",
    "    # and the number of zeros is equal to the length of neg_edge_index\n",
    "    E = pos_edge_index.size(1) + neg_edge_index.size(1)\n",
    "    link_labels = torch.zeros(E, dtype=torch.float, device=device)\n",
    "    link_labels[:pos_edge_index.size(1)] = 1.\n",
    "    return link_labels\n",
    "\n",
    "\n",
    "def train():\n",
    "    model.train()\n",
    "\n",
    "    neg_edge_index = negative_sampling(\n",
    "        edge_index=data.train_pos_edge_index, #positive edges\n",
    "        num_nodes=data.num_nodes, # number of nodes\n",
    "        num_neg_samples=data.train_pos_edge_index.size(1)) # number of neg_sample equal to number of pos_edges\n",
    "\n",
    "    optimizer.zero_grad()\n",
    "    \n",
    "    z = model.encode() #encode\n",
    "    link_logits = model.decode(z, data.train_pos_edge_index, neg_edge_index) # decode\n",
    "    \n",
    "    link_labels = get_link_labels(data.train_pos_edge_index, neg_edge_index)\n",
    "    loss = F.binary_cross_entropy_with_logits(link_logits, link_labels)\n",
    "    loss.backward()\n",
    "    optimizer.step()\n",
    "\n",
    "    return loss\n",
    "\n",
    "\n",
    "@torch.no_grad()\n",
    "def test():\n",
    "    model.eval()\n",
    "    perfs = []\n",
    "    for prefix in [\"val\", \"test\"]:\n",
    "        pos_edge_index = data[f'{prefix}_pos_edge_index']\n",
    "        neg_edge_index = data[f'{prefix}_neg_edge_index']\n",
    "\n",
    "        z = model.encode() # encode train\n",
    "        link_logits = model.decode(z, pos_edge_index, neg_edge_index) # decode test or val\n",
    "        link_probs = link_logits.sigmoid() # apply sigmoid\n",
    "        \n",
    "        link_labels = get_link_labels(pos_edge_index, neg_edge_index) # get link\n",
    "        # print(link_probs)\n",
    "        \n",
    "        perfs.append(log_loss(link_labels.cpu(), link_probs.cpu())) #compute roc_auc score\n",
    "    return perfs"
   ]
  },
  {
   "cell_type": "code",
   "execution_count": 29,
   "metadata": {},
   "outputs": [
    {
     "name": "stderr",
     "output_type": "stream",
     "text": [
      "e:\\Software\\anaconda3\\lib\\site-packages\\sklearn\\metrics\\_classification.py:2442: RuntimeWarning: divide by zero encountered in log\n",
      "  loss = -(transformed_labels * np.log(y_pred)).sum(axis=1)\n",
      "e:\\Software\\anaconda3\\lib\\site-packages\\sklearn\\metrics\\_classification.py:2442: RuntimeWarning: invalid value encountered in multiply\n",
      "  loss = -(transformed_labels * np.log(y_pred)).sum(axis=1)\n"
     ]
    }
   ],
   "source": [
    "best_val_perf = test_perf = 0\n",
    "for epoch in range(1, 101):\n",
    "    train_loss = train()\n",
    "    val_perf, tmp_test_perf = test()\n",
    "    if val_perf > best_val_perf:\n",
    "        best_val_perf = val_perf\n",
    "        test_perf = tmp_test_perf\n",
    "    log = 'Epoch: {:03d}, Loss: {:.4f}, Val: {:.4f}, Test: {:.4f}'\n",
    "    if epoch % 10 == 0:\n",
    "        print(log.format(epoch, train_loss, best_val_perf, test_perf))\n",
    "    break"
   ]
  },
  {
   "cell_type": "code",
   "execution_count": 19,
   "metadata": {},
   "outputs": [],
   "source": [
    "z = model.encode()\n",
    "final_edge_index = model.decode_all(z)"
   ]
  },
  {
   "cell_type": "code",
   "execution_count": 20,
   "metadata": {},
   "outputs": [
    {
     "data": {
      "text/plain": [
       "tensor([[   0,    0,    0,  ..., 2707, 2707, 2707],\n",
       "        [   0,    2,    4,  ..., 2705, 2706, 2707]])"
      ]
     },
     "execution_count": 20,
     "metadata": {},
     "output_type": "execute_result"
    }
   ],
   "source": [
    "final_edge_index"
   ]
  },
  {
   "cell_type": "code",
   "execution_count": 31,
   "metadata": {},
   "outputs": [
    {
     "data": {
      "text/plain": [
       "1.6813584305470457"
      ]
     },
     "execution_count": 31,
     "metadata": {},
     "output_type": "execute_result"
    }
   ],
   "source": [
    "log_loss([1, 0, 1, 0], [0.2, .4, .1, .9])"
   ]
  },
  {
   "cell_type": "code",
   "execution_count": null,
   "metadata": {},
   "outputs": [],
   "source": []
  }
 ],
 "metadata": {
  "kernelspec": {
   "display_name": "Python 3.9.12 ('base')",
   "language": "python",
   "name": "python3"
  },
  "language_info": {
   "codemirror_mode": {
    "name": "ipython",
    "version": 3
   },
   "file_extension": ".py",
   "mimetype": "text/x-python",
   "name": "python",
   "nbconvert_exporter": "python",
   "pygments_lexer": "ipython3",
   "version": "3.9.12"
  },
  "orig_nbformat": 4,
  "vscode": {
   "interpreter": {
    "hash": "c2b388c6fce79e00fd9c43dd7c300c62775de93114fdc7222b9aeb8ab89a5a93"
   }
  }
 },
 "nbformat": 4,
 "nbformat_minor": 2
}

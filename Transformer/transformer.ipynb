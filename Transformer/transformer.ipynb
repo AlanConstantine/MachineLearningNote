{
 "cells": [
  {
   "cell_type": "code",
   "execution_count": 3,
   "metadata": {},
   "outputs": [
    {
     "name": "stdout",
     "output_type": "stream",
     "text": [
      "CUDA is available\n"
     ]
    }
   ],
   "source": [
    "import torch\n",
    "from torch import nn\n",
    "\n",
    "if torch.cuda.is_available():\n",
    "    print('CUDA is available')\n",
    "    cuda0 = torch.device('cuda:0')"
   ]
  },
  {
   "cell_type": "code",
   "execution_count": 15,
   "metadata": {},
   "outputs": [],
   "source": []
  },
  {
   "cell_type": "code",
   "execution_count": 16,
   "metadata": {},
   "outputs": [
    {
     "data": {
      "text/plain": [
       "tensor([[[[ 1.,  2.,  3.],\n",
       "          [ 4.,  5.,  6.]],\n",
       "\n",
       "         [[ 5.,  6.,  7.],\n",
       "          [ 8.,  9., 10.]]],\n",
       "\n",
       "\n",
       "        [[[ 9., 10., 11.],\n",
       "          [12., 12., 14.]],\n",
       "\n",
       "         [[ 1.,  2.,  3.],\n",
       "          [ 4.,  5.,  6.]]],\n",
       "\n",
       "\n",
       "        [[[ 1.,  2.,  3.],\n",
       "          [ 4.,  5.,  6.]],\n",
       "\n",
       "         [[ 1.,  2.,  3.],\n",
       "          [ 4.,  5.,  6.]]]], device='cuda:0', dtype=torch.float64)"
      ]
     },
     "execution_count": 16,
     "metadata": {},
     "output_type": "execute_result"
    }
   ],
   "source": []
  },
  {
   "cell_type": "code",
   "execution_count": 21,
   "metadata": {},
   "outputs": [
    {
     "data": {
      "text/plain": [
       "tensor([[[[  142.,   188.,   234.],\n",
       "          [  340.,   449.,   558.]],\n",
       "\n",
       "         [[ 1862.,  2136.,  2410.],\n",
       "          [ 2780.,  3189.,  3598.]]],\n",
       "\n",
       "\n",
       "        [[[ 7302.,  7604.,  8670.],\n",
       "          [ 9246.,  9628., 10978.]],\n",
       "\n",
       "         [[  142.,   188.,   234.],\n",
       "          [  340.,   449.,   558.]]],\n",
       "\n",
       "\n",
       "        [[[  142.,   188.,   234.],\n",
       "          [  340.,   449.,   558.]],\n",
       "\n",
       "         [[  142.,   188.,   234.],\n",
       "          [  340.,   449.,   558.]]]], device='cuda:0', dtype=torch.float64)"
      ]
     },
     "execution_count": 21,
     "metadata": {},
     "output_type": "execute_result"
    }
   ],
   "source": []
  },
  {
   "cell_type": "code",
   "execution_count": 23,
   "metadata": {},
   "outputs": [
    {
     "data": {
      "text/plain": [
       "tensor([[[  142.,   188.,   234.,   340.,   449.,   558.],\n",
       "         [ 1862.,  2136.,  2410.,  2780.,  3189.,  3598.],\n",
       "         [ 7302.,  7604.,  8670.,  9246.,  9628., 10978.]],\n",
       "\n",
       "        [[  142.,   188.,   234.,   340.,   449.,   558.],\n",
       "         [  142.,   188.,   234.,   340.,   449.,   558.],\n",
       "         [  142.,   188.,   234.,   340.,   449.,   558.]]], device='cuda:0',\n",
       "       dtype=torch.float64)"
      ]
     },
     "execution_count": 23,
     "metadata": {},
     "output_type": "execute_result"
    }
   ],
   "source": []
  },
  {
   "cell_type": "code",
   "execution_count": null,
   "metadata": {},
   "outputs": [],
   "source": []
  }
 ],
 "metadata": {
  "interpreter": {
   "hash": "1d5334fe9b82e8c016b8b2657765205a9a9ba0b9bc469dbf5ca7c631ff3e3ab7"
  },
  "kernelspec": {
   "display_name": "Python 3.8.12 ('base')",
   "language": "python",
   "name": "python3"
  },
  "language_info": {
   "codemirror_mode": {
    "name": "ipython",
    "version": 3
   },
   "file_extension": ".py",
   "mimetype": "text/x-python",
   "name": "python",
   "nbconvert_exporter": "python",
   "pygments_lexer": "ipython3",
   "version": "3.8.12"
  },
  "orig_nbformat": 4
 },
 "nbformat": 4,
 "nbformat_minor": 2
}
